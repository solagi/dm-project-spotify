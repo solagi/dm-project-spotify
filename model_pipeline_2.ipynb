{
 "cells": [
  {
   "cell_type": "code",
   "execution_count": null,
   "metadata": {},
   "outputs": [],
   "source": [
    "from sklearn.utils import shuffle\n",
    "import pandas as pd\n",
    "import numpy as np\n",
    "import matplotlib.pyplot as plt\n",
    "\n",
    "\n",
    "from sklearn.pipeline import Pipeline\n",
    "from sklearn.svm import SVC\n",
    "from sklearn.preprocessing import  MinMaxScaler\n",
    "from sklearn.model_selection import train_test_split\n",
    "from sklearn.preprocessing import OneHotEncoder\n",
    "from sklearn.compose import ColumnTransformer\n"
   ]
  },
  {
   "cell_type": "markdown",
   "metadata": {},
   "source": [
    "Preparing of dataset. In this step we make sure only New Music Friday and No Playlist songs stay in the dataset."
   ]
  },
  {
   "cell_type": "code",
   "execution_count": null,
   "metadata": {},
   "outputs": [],
   "source": [
    "dfc = pd.read_pickle(\"dataframe_w_labels.pkl\")\n",
    "\n",
    "dfd_newmf = dfc[dfc['PlaylistTitle'] == 'New Music Friday']\n",
    "dfd_nop = dfc[dfc['PlaylistTitle'] == 'No Playlist']\n"
   ]
  },
  {
   "cell_type": "code",
   "execution_count": null,
   "metadata": {},
   "outputs": [],
   "source": [
    "#shuffling the random sample\n",
    "dfd_nop = shuffle(dfd_nop)\n",
    "\n",
    "# getting same amount of data for each 291 New Music Friday Songs and 291 Random Songs\n",
    "dfd_nop = dfd_nop.head(291)\n",
    "len(dfd_nop)\n"
   ]
  },
  {
   "cell_type": "code",
   "execution_count": null,
   "metadata": {},
   "outputs": [],
   "source": [
    "combined_frames = [dfd_nop, dfd_newmf]\n",
    "new_music_friday_or_none = pd.concat(combined_frames)"
   ]
  },
  {
   "cell_type": "code",
   "execution_count": null,
   "metadata": {},
   "outputs": [],
   "source": [
    "new_music_friday_or_none.reset_index(drop=True, inplace=True)\n"
   ]
  },
  {
   "cell_type": "markdown",
   "metadata": {},
   "source": [
    "Defining of pipeline with necessary preprocessing steps."
   ]
  },
  {
   "cell_type": "code",
   "execution_count": null,
   "metadata": {},
   "outputs": [],
   "source": [
    "pipeline = Pipeline([\n",
    "    \n",
    "    ('onehot_categories', ColumnTransformer([\n",
    "        (\"onehot\", OneHotEncoder(), [\"mode\"]),\n",
    "        (\"normalize\", MinMaxScaler(), ['danceability', 'energy', 'loudness','acousticness',\n",
    "                                        'instrumentalness','valence', 'tempo', 'duration_ms', 'NoFeaturing']) \n",
    "    ], remainder=\"passthrough\")),\n",
    "        \n",
    "    ('regression', SVC(kernel = 'poly', probability=True, gamma='scale', C=1.0, degree=3)),\n",
    "])"
   ]
  },
  {
   "cell_type": "markdown",
   "metadata": {},
   "source": [
    "Splitting of dataset to X_train, X_test, y_train and y_test."
   ]
  },
  {
   "cell_type": "code",
   "execution_count": null,
   "metadata": {},
   "outputs": [],
   "source": [
    "X = new_music_friday_or_none[['danceability','mode', 'energy', 'loudness','acousticness',\n",
    "    'instrumentalness','valence', 'tempo', 'duration_ms', 'NoFeaturing']] \n",
    "y =  new_music_friday_or_none['PlaylistTitle']\n",
    "\n",
    "X_train, X_test, y_train, y_test = train_test_split(X, y, test_size=0.33, random_state=42)"
   ]
  },
  {
   "cell_type": "markdown",
   "metadata": {},
   "source": [
    "Fitting the train data to the model"
   ]
  },
  {
   "cell_type": "code",
   "execution_count": null,
   "metadata": {},
   "outputs": [],
   "source": [
    "pipeline.fit(X_train,y_train)\n"
   ]
  },
  {
   "cell_type": "markdown",
   "metadata": {},
   "source": [
    "Calculating score for the model."
   ]
  },
  {
   "cell_type": "code",
   "execution_count": null,
   "metadata": {},
   "outputs": [],
   "source": [
    "pipeline.score(X_test, y_test)"
   ]
  },
  {
   "cell_type": "code",
   "execution_count": null,
   "metadata": {},
   "outputs": [],
   "source": [
    "# Cross Validation Classification Report \n",
    "from sklearn import model_selection\n",
    "from sklearn.metrics import classification_report\n",
    "\n",
    "y_pred1 = pipeline.predict(X_test)\n",
    "report = classification_report(y_test, y_pred1)\n",
    "print(report)"
   ]
  },
  {
   "cell_type": "markdown",
   "metadata": {},
   "source": [
    "In the following 2 blocks we create a dataframe where each song has a column with a percentage of being a part of each playlist. The last 2 columns are then the Classified playlist, which is a playlist that the model selects for a given song, and Max Value, which is the predicted probability of a song being a part of the predicted playlist."
   ]
  },
  {
   "cell_type": "code",
   "execution_count": null,
   "metadata": {},
   "outputs": [],
   "source": [
    "playlists = np.unique(new_music_friday_or_none['PlaylistTitle'])\n",
    "prob = pipeline.predict_proba(X_test)\n",
    "pro_df = pd.DataFrame(data=prob, columns=playlists)"
   ]
  },
  {
   "cell_type": "code",
   "execution_count": null,
   "metadata": {},
   "outputs": [],
   "source": [
    "pro_df['Classified playlist']=pro_df.apply(lambda x:x[(x==x.max())].index.to_series().sample(frac=1).iloc[0], axis=1)\n",
    "pro_df['Max value'] = pro_df.max(axis=1) * 100\n",
    "pro_df.head(10)"
   ]
  },
  {
   "cell_type": "markdown",
   "metadata": {},
   "source": [
    "In the block below we create a histogram, where we show the number of songs and their predicted percentage range."
   ]
  },
  {
   "cell_type": "code",
   "execution_count": null,
   "metadata": {},
   "outputs": [],
   "source": [
    "plt.hist(pro_df['Max value'], bins = [0,20,40,60,80,100], edgecolor='k', color='dodgerblue')\n",
    "plt.ylabel('Number of songs')\n",
    "plt.xlabel('Percentage of a song being correctly classified')\n",
    "# plt.savefig(\"Hist2.pdf\")"
   ]
  },
  {
   "cell_type": "markdown",
   "metadata": {},
   "source": [
    "Lastly, we create a dataframe where we compare the actual playlist that a song is on and the predicted playlist by the model."
   ]
  },
  {
   "cell_type": "code",
   "execution_count": null,
   "metadata": {},
   "outputs": [],
   "source": [
    "y_test = pd.DataFrame(y_test)\n",
    "\n",
    "y_test[\"Prediction\"] = pipeline.predict(X_test)\n",
    "pd.set_option(\"display.max_rows\", None, \"display.max_columns\", None) # Displays the entire dataframe in nootebook, not just a preview\n",
    "\n",
    "comparison_column = np.where(y_test[\"Prediction\"] == y_test[\"PlaylistTitle\"], True, False)\n",
    "y_test[\"equal\"] = comparison_column\n",
    "\n",
    "y_test.head(10)"
   ]
  }
 ],
 "metadata": {
  "interpreter": {
   "hash": "98296c6fab1f2542c3ee1b453fe7ed304d5710b367ab83c3e921b0c6632a7bad"
  },
  "kernelspec": {
   "display_name": "Python 3.8.12 64-bit ('base': conda)",
   "language": "python",
   "name": "python3"
  },
  "language_info": {
   "codemirror_mode": {
    "name": "ipython",
    "version": 3
   },
   "file_extension": ".py",
   "mimetype": "text/x-python",
   "name": "python",
   "nbconvert_exporter": "python",
   "pygments_lexer": "ipython3",
   "version": "3.8.5"
  },
  "orig_nbformat": 4
 },
 "nbformat": 4,
 "nbformat_minor": 2
}
