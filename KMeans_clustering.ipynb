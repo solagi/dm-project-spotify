{
 "cells": [
  {
   "cell_type": "code",
   "execution_count": null,
   "metadata": {},
   "outputs": [],
   "source": [
    "import pandas as pd\n",
    "import numpy as np\n",
    "import seaborn as sns\n",
    "import matplotlib.pyplot as plt"
   ]
  },
  {
   "cell_type": "markdown",
   "metadata": {},
   "source": [
    "Preparing a dataframe"
   ]
  },
  {
   "cell_type": "code",
   "execution_count": null,
   "metadata": {},
   "outputs": [],
   "source": [
    "df = pd.read_pickle(\"dataframe_w_labels.pkl\")\n",
    "df = df[df['PlaylistTitle'] != 'No Playlist']\n",
    "df = df[df['PlaylistTitle'] != 'Songs to Sing in the Shower']\n",
    "df = df[df['PlaylistTitle'] != 'New Music Friday'] #Remove for the Mood playlist set\n",
    "df.reset_index(drop=True, inplace=True)"
   ]
  },
  {
   "cell_type": "code",
   "execution_count": null,
   "metadata": {},
   "outputs": [],
   "source": [
    "#included playists check\n",
    "df['PlaylistTitle'].unique()"
   ]
  },
  {
   "cell_type": "markdown",
   "metadata": {},
   "source": [
    "Selecting musical features for the clustering"
   ]
  },
  {
   "cell_type": "code",
   "execution_count": null,
   "metadata": {},
   "outputs": [],
   "source": [
    "features = df[['danceability','energy', 'loudness', 'acousticness', 'instrumentalness','valence', 'tempo', 'duration_ms', 'NoFeaturing']]"
   ]
  },
  {
   "cell_type": "markdown",
   "metadata": {},
   "source": [
    "Scaling the dataset"
   ]
  },
  {
   "cell_type": "code",
   "execution_count": null,
   "metadata": {},
   "outputs": [],
   "source": [
    "from sklearn.preprocessing import MinMaxScaler\n",
    "\n",
    "scaler = MinMaxScaler()\n",
    "x = scaler.fit_transform(features)"
   ]
  },
  {
   "cell_type": "markdown",
   "metadata": {},
   "source": [
    "# PCA"
   ]
  },
  {
   "cell_type": "code",
   "execution_count": null,
   "metadata": {},
   "outputs": [],
   "source": [
    "#Choosing the optimal number of components\n",
    "\n",
    "from sklearn.decomposition import PCA\n",
    "\n",
    "pca_t = PCA().fit(x.data)\n",
    "plt.plot(np.cumsum(pca_t.explained_variance_ratio_))\n",
    "plt.xlabel('Number of PCA components')\n",
    "plt.ylabel('Cumulative explained variance');\n",
    "plt.savefig(\"cross_val_pca.pdf\")"
   ]
  },
  {
   "cell_type": "code",
   "execution_count": null,
   "metadata": {},
   "outputs": [],
   "source": [
    "pca = PCA(n_components=4)\n",
    "principalComponents = pca.fit_transform(x)\n",
    "xp = pd.DataFrame(data = principalComponents\n",
    "             , columns = ['pc1', 'pc2', 'pc3', 'pc4'])"
   ]
  },
  {
   "cell_type": "markdown",
   "metadata": {},
   "source": [
    "## K-Means clustering"
   ]
  },
  {
   "cell_type": "code",
   "execution_count": null,
   "metadata": {},
   "outputs": [],
   "source": [
    "from sklearn.cluster import KMeans"
   ]
  },
  {
   "cell_type": "code",
   "execution_count": null,
   "metadata": {},
   "outputs": [],
   "source": [
    "#Choosing the optimal number of clusters\n",
    "from numpy import absolute\n",
    "\n",
    "scores = []\n",
    "clusters=[]\n",
    "\n",
    "for cl in np.arange(1,10):\n",
    "    kmeans = KMeans(cl)\n",
    "    kmeans.fit(xp)\n",
    "    \n",
    "    scores.append(absolute(kmeans.score(xp)))\n",
    "    clusters.append(cl)\n",
    "    "
   ]
  },
  {
   "cell_type": "code",
   "execution_count": null,
   "metadata": {},
   "outputs": [],
   "source": [
    "plt.plot(clusters, scores)\n",
    "plt.xlabel('Number of KMeans clusters')\n",
    "plt.ylabel('Score (absolute)')\n",
    "plt.savefig(\"cross_val_km.pdf\")"
   ]
  },
  {
   "cell_type": "code",
   "execution_count": null,
   "metadata": {},
   "outputs": [],
   "source": [
    "kmeans = KMeans(4)"
   ]
  },
  {
   "cell_type": "code",
   "execution_count": null,
   "metadata": {},
   "outputs": [],
   "source": [
    "identified_clusters = kmeans.fit_predict(xp)"
   ]
  },
  {
   "cell_type": "code",
   "execution_count": null,
   "metadata": {},
   "outputs": [],
   "source": [
    "df_clusters = df.copy()\n",
    "df_clusters['Clusters'] = identified_clusters "
   ]
  },
  {
   "cell_type": "code",
   "execution_count": null,
   "metadata": {},
   "outputs": [],
   "source": [
    "df_clusters[['PlaylistTitle','Clusters']].groupby(['PlaylistTitle','Clusters']).size()"
   ]
  },
  {
   "cell_type": "code",
   "execution_count": null,
   "metadata": {},
   "outputs": [],
   "source": [
    "# 3D plot for playlists on Kmeans clusters\n",
    "\n",
    "u_labels = np.unique(identified_clusters)\n",
    "fig= plt.figure(figsize=[5,5])\n",
    "ax= fig.add_subplot(111, projection= '3d')\n",
    "cdict = {0: 'orange', 1: 'green', 2: 'blue', 3: 'red'}\n",
    "\n",
    "for i in u_labels:\n",
    "    ax.scatter(principalComponents[identified_clusters == i , 0], \n",
    "                 principalComponents[identified_clusters == i , 2], \n",
    "                 principalComponents[identified_clusters == i , 1], \n",
    "                 label = i, c = cdict[i])\n",
    "    ax.legend()\n",
    "\n",
    "fig.tight_layout()\n",
    "fig.savefig(\"clusters_mood_km.pdf\")"
   ]
  },
  {
   "cell_type": "code",
   "execution_count": null,
   "metadata": {},
   "outputs": [],
   "source": [
    "xpf = xp.copy()\n",
    "xpf['PlaylistTitle'] = df['PlaylistTitle']\n"
   ]
  },
  {
   "cell_type": "code",
   "execution_count": null,
   "metadata": {},
   "outputs": [],
   "source": [
    "# 3D plot for playlists on PCA\n",
    "fig= plt.figure(figsize=[5,6])\n",
    "ax= fig.add_subplot(111, projection= '3d')\n",
    "u_labels = np.unique(xpf['PlaylistTitle'])\n",
    "column = xpf['PlaylistTitle']\n",
    "cdict = {'Beast Mode': 'red',\n",
    "         'Comfort Zone': 'blue', \n",
    "         'Deep Focus': 'green',\n",
    "         'Mood Booster': 'orange'}\n",
    "\n",
    "for i in u_labels:\n",
    "    ax.scatter(principalComponents[column == i , 0], \n",
    "                 principalComponents[column == i , 2], \n",
    "                 principalComponents[column == i , 1], \n",
    "                 label = i,  c = cdict[i])\n",
    "    ax.legend()\n",
    "fig.tight_layout()\n",
    "fig.savefig(\"clusters_mood_title.pdf\")"
   ]
  },
  {
   "cell_type": "code",
   "execution_count": null,
   "metadata": {},
   "outputs": [],
   "source": []
  }
 ],
 "metadata": {
  "interpreter": {
   "hash": "b083f2c209207e721cc347c1e741713b90838bbb41e24a2537d3a4eac09f600b"
  },
  "kernelspec": {
   "display_name": "Python 3.8.8 64-bit ('base': conda)",
   "language": "python",
   "name": "python3"
  },
  "language_info": {
   "codemirror_mode": {
    "name": "ipython",
    "version": 3
   },
   "file_extension": ".py",
   "mimetype": "text/x-python",
   "name": "python",
   "nbconvert_exporter": "python",
   "pygments_lexer": "ipython3",
   "version": "3.8.5"
  },
  "orig_nbformat": 4
 },
 "nbformat": 4,
 "nbformat_minor": 2
}
